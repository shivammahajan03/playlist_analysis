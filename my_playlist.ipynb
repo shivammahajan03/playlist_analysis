{
  "nbformat": 4,
  "nbformat_minor": 0,
  "metadata": {
    "colab": {
      "provenance": [],
      "include_colab_link": true
    },
    "kernelspec": {
      "name": "python3",
      "display_name": "Python 3"
    },
    "language_info": {
      "name": "python"
    }
  },
  "cells": [
    {
      "cell_type": "markdown",
      "metadata": {
        "id": "view-in-github",
        "colab_type": "text"
      },
      "source": [
        "<a href=\"https://colab.research.google.com/github/shivammahajan03/playlist_analysis/blob/main/my_playlist.ipynb\" target=\"_parent\"><img src=\"https://colab.research.google.com/assets/colab-badge.svg\" alt=\"Open In Colab\"/></a>"
      ]
    },
    {
      "cell_type": "markdown",
      "source": [
        "Steps to understand working of SQLite3 using python\n",
        "\n",
        "1. **Basic SQL**\n",
        "Setup of a sample database\n",
        "2. **Build a small dataset with popular musisc, artists, genres**\n",
        "3. **Build a small recommendation engine based on the user's tastes, likes and dislikes**"
      ],
      "metadata": {
        "id": "ssoanbwxzbYe"
      }
    },
    {
      "cell_type": "code",
      "source": [
        "!pip install pysqlite3\n",
        "from pysqlite3 import dbapi2 as sqlite3\n",
        "print(sqlite3.sqlite_version)\n",
        "import pandas as pd\n",
        "from IPython.display import display, HTML\n"
      ],
      "metadata": {
        "colab": {
          "base_uri": "https://localhost:8080/"
        },
        "id": "GThFbBIb0LU-",
        "outputId": "f8f5d12f-dffa-44fa-f4bc-281a1704f0b4"
      },
      "execution_count": null,
      "outputs": [
        {
          "output_type": "stream",
          "name": "stdout",
          "text": [
            "Collecting pysqlite3\n",
            "  Downloading pysqlite3-0.5.2.tar.gz (40 kB)\n",
            "\u001b[?25l     \u001b[90m━━━━━━━━━━━━━━━━━━━━━━━━━━━━━━━━━━━━━━━━\u001b[0m \u001b[32m0.0/40.7 kB\u001b[0m \u001b[31m?\u001b[0m eta \u001b[36m-:--:--\u001b[0m\r\u001b[2K     \u001b[90m━━━━━━━━━━━━━━━━━━━━━━━━━━━━━━━━━━━━━━━━\u001b[0m \u001b[32m40.7/40.7 kB\u001b[0m \u001b[31m929.0 kB/s\u001b[0m eta \u001b[36m0:00:00\u001b[0m\n",
            "\u001b[?25h  Preparing metadata (setup.py) ... \u001b[?25l\u001b[?25hdone\n",
            "Building wheels for collected packages: pysqlite3\n",
            "  Building wheel for pysqlite3 (setup.py) ... \u001b[?25l\u001b[?25hdone\n",
            "  Created wheel for pysqlite3: filename=pysqlite3-0.5.2-cp310-cp310-linux_x86_64.whl size=151112 sha256=8e5a3aed2b5696159e8cce487fba33cad718828af74037d2ac834b663341db96\n",
            "  Stored in directory: /root/.cache/pip/wheels/91/91/77/1912a316aad35d0edcb42ee1aa9b7bc07d7190a5798d378805\n",
            "Successfully built pysqlite3\n",
            "Installing collected packages: pysqlite3\n",
            "Successfully installed pysqlite3-0.5.2\n",
            "3.37.2\n"
          ]
        }
      ]
    },
    {
      "cell_type": "code",
      "source": [
        "def printSqlResults(caption,tblName):\n",
        "  try:\n",
        "    df = pd.DataFrame(caption.fetchall(), columns=[i[0] for i in caption.description])\n",
        "    display(HTML(\"<b><font color=Green>\"+tblName+\"</font></b>\" +df.to_html(index=False)))\n",
        "  except:\n",
        "    pass\n",
        "\n",
        "def runSql(caption, query):\n",
        "  conn = sqlite3.connect(dbname)\n",
        "  cursor = conn.cursor()\n",
        "  cursor.execute(query)\n",
        "  printSqlResults(cursor,caption)\n",
        "  conn.close()"
      ],
      "metadata": {
        "id": "f_cwqRNtXqv_"
      },
      "execution_count": null,
      "outputs": []
    },
    {
      "cell_type": "code",
      "source": [
        "dbname = \"my_music.db\"\n",
        "\n",
        "conn = sqlite3.connect(dbname)\n",
        "cursor = conn.cursor()\n",
        "\n",
        "cursor.execute(\"\"\"\n",
        "CREATE TABLE IF NOT EXISTS Users (\n",
        "  user_id INTEGER PRIMARY KEY,\n",
        "  name VARCHAR(100) NOT NULL,\n",
        "  email VARCHAR(100) NOT NULL UNIQUE\n",
        ");\n",
        "\"\"\")\n",
        "\n",
        "cursor.execute(\"\"\"\n",
        "CREATE TABLE IF NOT EXISTS Songs (\n",
        "  song_id INTEGER PRIMARY KEY,\n",
        "  title VARCHAR(100) NOT NULL,\n",
        "  artist VARCHAR(100) NOT NULL,\n",
        "  genre VARCHAR(100)\n",
        ");\n",
        "\"\"\")\n",
        "\n",
        "cursor.execute(\"\"\"\n",
        "CREATE TABLE IF NOT EXISTS Listens (\n",
        "  listen_id INTEGER PRIMARY KEY,\n",
        "  user_id INTEGER NOT NULL,\n",
        "  song_id INTEGER NOT NULL,\n",
        "  rating FLOAT,\n",
        "  listen_time TIMESTAMP,\n",
        "  FOREIGN KEY (user_id) REFERENCES Users(user_id),\n",
        "  FOREIGN KEY (song_id) REFERENCES Songs(song_id)\n",
        ");\n",
        "\"\"\")\n",
        "\n",
        "\n",
        "cursor.execute(\"\"\"\n",
        "CREATE TABLE IF NOT EXISTS Recommendations (\n",
        "  user_id INTEGER NOT NULL,\n",
        "  song_id INTEGER NOT NULL,\n",
        "  recommendation_id NOT NULL PRIMARY KEY,\n",
        "  recommendation_time TIMESTAMP,\n",
        "  FOREIGN KEY (user_id) REFERENCES Users(user_id),\n",
        "  FOREIGN KEY (song_id) REFERENCES Songs(song_id)\n",
        ");\n",
        "\"\"\")\n",
        "\n",
        "conn.commit()\n",
        "conn.close()"
      ],
      "metadata": {
        "id": "1GtLG-XD0N7s"
      },
      "execution_count": null,
      "outputs": []
    },
    {
      "cell_type": "code",
      "source": [
        "conn = sqlite3.connect(dbname)\n",
        "sqlite3.enable_callback_tracebacks(True)\n",
        "cursor = conn.cursor()\n",
        "cursor.execute(\"delete from Songs\")\n",
        "cursor.execute(\"delete from Users\")\n",
        "cursor.execute(\"delete from Listens\")\n",
        "cursor.execute(\"delete from Recommendations\")\n",
        "\n",
        "cursor.execute(\"\"\"\n",
        "INSERT INTO Users (user_id, name, email)\n",
        "VALUES\n",
        "      (1, 'Mickey', 'mickey@example.com'),\n",
        "      (2, 'Minnie', 'minnie@example.com'),\n",
        "      (3, 'Daffy', 'daffy@example.com'),\n",
        "      (4, 'Pluto', 'pluto@example.com');\n",
        "\"\"\")\n",
        "\n",
        "cursor.execute(\"\"\"\n",
        "INSERT INTO Songs (song_id, title, artist, genre)\n",
        "VALUES\n",
        "      (1, 'Evermore', 'Taylor Swift', 'Pop'),\n",
        "      (2, 'Bad Blood', 'Taylor Swift', 'Rock'),\n",
        "      (3, 'Willow', 'Taylor Swift', 'Pop'),\n",
        "      (4, 'Shape of you', 'Ed Sheeran', 'Rock'),\n",
        "      (5, 'Photograph', 'Ed Sheeran', 'Rock'),\n",
        "      (6, 'Shivers', 'Ed Sheeran', 'Pop'),\n",
        "      (7, 'Hey Jude', 'Beatles', 'Classic'),\n",
        "      (8, 'Yellow Submarine', 'Beatles', 'Classic'),\n",
        "      (9, 'Hey Jude', 'Beatles', 'Classic'),\n",
        "      (10, 'DJ Mix', 'DJ', NULL);\n",
        "\"\"\")\n",
        "\n",
        "\n",
        "cursor.execute(\"\"\"\n",
        "INSERT INTO Listens (listen_id, user_id, song_id, rating)\n",
        "VALUES\n",
        "      (1, 1, 1, 4.5),\n",
        "      (2, 1, 2, 4.2),\n",
        "      (3, 1, 6, 3.9),\n",
        "      (4, 2, 2, 4.7),\n",
        "      (5, 2, 7, 4.6),\n",
        "      (6, 2, 8, 3.9),\n",
        "      (7, 3, 2, 2.9),\n",
        "      (8, 3, 6, 4.9);\n",
        "\"\"\")\n",
        "\n",
        "conn.commit()\n",
        "conn.close()"
      ],
      "metadata": {
        "id": "z6GIcvBQ3M4C"
      },
      "execution_count": null,
      "outputs": []
    },
    {
      "cell_type": "code",
      "source": [
        "runSql('Users', \"select * from Users\")\n",
        "runSql('Songs', \"select * from Songs\")\n",
        "runSql('Listens', \"select * from Listens\")"
      ],
      "metadata": {
        "colab": {
          "base_uri": "https://localhost:8080/",
          "height": 855
        },
        "id": "2dbWe2W-9Fkf",
        "outputId": "09444977-62b4-4317-9412-5a50a92fb09a"
      },
      "execution_count": null,
      "outputs": [
        {
          "output_type": "display_data",
          "data": {
            "text/plain": [
              "<IPython.core.display.HTML object>"
            ],
            "text/html": [
              "<b><font color=Green>Users</font></b><table border=\"1\" class=\"dataframe\">\n",
              "  <thead>\n",
              "    <tr style=\"text-align: right;\">\n",
              "      <th>user_id</th>\n",
              "      <th>name</th>\n",
              "      <th>email</th>\n",
              "    </tr>\n",
              "  </thead>\n",
              "  <tbody>\n",
              "    <tr>\n",
              "      <td>1</td>\n",
              "      <td>Mickey</td>\n",
              "      <td>mickey@example.com</td>\n",
              "    </tr>\n",
              "    <tr>\n",
              "      <td>2</td>\n",
              "      <td>Minnie</td>\n",
              "      <td>minnie@example.com</td>\n",
              "    </tr>\n",
              "    <tr>\n",
              "      <td>3</td>\n",
              "      <td>Daffy</td>\n",
              "      <td>daffy@example.com</td>\n",
              "    </tr>\n",
              "    <tr>\n",
              "      <td>4</td>\n",
              "      <td>Pluto</td>\n",
              "      <td>pluto@example.com</td>\n",
              "    </tr>\n",
              "  </tbody>\n",
              "</table>"
            ]
          },
          "metadata": {}
        },
        {
          "output_type": "display_data",
          "data": {
            "text/plain": [
              "<IPython.core.display.HTML object>"
            ],
            "text/html": [
              "<b><font color=Green>Songs</font></b><table border=\"1\" class=\"dataframe\">\n",
              "  <thead>\n",
              "    <tr style=\"text-align: right;\">\n",
              "      <th>song_id</th>\n",
              "      <th>title</th>\n",
              "      <th>artist</th>\n",
              "      <th>genre</th>\n",
              "    </tr>\n",
              "  </thead>\n",
              "  <tbody>\n",
              "    <tr>\n",
              "      <td>1</td>\n",
              "      <td>Evermore</td>\n",
              "      <td>Taylor Swift</td>\n",
              "      <td>Pop</td>\n",
              "    </tr>\n",
              "    <tr>\n",
              "      <td>2</td>\n",
              "      <td>Bad Blood</td>\n",
              "      <td>Taylor Swift</td>\n",
              "      <td>Rock</td>\n",
              "    </tr>\n",
              "    <tr>\n",
              "      <td>3</td>\n",
              "      <td>Willow</td>\n",
              "      <td>Taylor Swift</td>\n",
              "      <td>Pop</td>\n",
              "    </tr>\n",
              "    <tr>\n",
              "      <td>4</td>\n",
              "      <td>Shape of you</td>\n",
              "      <td>Ed Sheeran</td>\n",
              "      <td>Rock</td>\n",
              "    </tr>\n",
              "    <tr>\n",
              "      <td>5</td>\n",
              "      <td>Photograph</td>\n",
              "      <td>Ed Sheeran</td>\n",
              "      <td>Rock</td>\n",
              "    </tr>\n",
              "    <tr>\n",
              "      <td>6</td>\n",
              "      <td>Shivers</td>\n",
              "      <td>Ed Sheeran</td>\n",
              "      <td>Pop</td>\n",
              "    </tr>\n",
              "    <tr>\n",
              "      <td>7</td>\n",
              "      <td>Hey Jude</td>\n",
              "      <td>Beatles</td>\n",
              "      <td>Classic</td>\n",
              "    </tr>\n",
              "    <tr>\n",
              "      <td>8</td>\n",
              "      <td>Yellow Submarine</td>\n",
              "      <td>Beatles</td>\n",
              "      <td>Classic</td>\n",
              "    </tr>\n",
              "    <tr>\n",
              "      <td>9</td>\n",
              "      <td>Hey Jude</td>\n",
              "      <td>Beatles</td>\n",
              "      <td>Classic</td>\n",
              "    </tr>\n",
              "    <tr>\n",
              "      <td>10</td>\n",
              "      <td>DJ Mix</td>\n",
              "      <td>DJ</td>\n",
              "      <td>None</td>\n",
              "    </tr>\n",
              "  </tbody>\n",
              "</table>"
            ]
          },
          "metadata": {}
        },
        {
          "output_type": "display_data",
          "data": {
            "text/plain": [
              "<IPython.core.display.HTML object>"
            ],
            "text/html": [
              "<b><font color=Green>Listens</font></b><table border=\"1\" class=\"dataframe\">\n",
              "  <thead>\n",
              "    <tr style=\"text-align: right;\">\n",
              "      <th>listen_id</th>\n",
              "      <th>user_id</th>\n",
              "      <th>song_id</th>\n",
              "      <th>rating</th>\n",
              "      <th>listen_time</th>\n",
              "    </tr>\n",
              "  </thead>\n",
              "  <tbody>\n",
              "    <tr>\n",
              "      <td>1</td>\n",
              "      <td>1</td>\n",
              "      <td>1</td>\n",
              "      <td>4.5</td>\n",
              "      <td>None</td>\n",
              "    </tr>\n",
              "    <tr>\n",
              "      <td>2</td>\n",
              "      <td>1</td>\n",
              "      <td>2</td>\n",
              "      <td>4.2</td>\n",
              "      <td>None</td>\n",
              "    </tr>\n",
              "    <tr>\n",
              "      <td>3</td>\n",
              "      <td>1</td>\n",
              "      <td>6</td>\n",
              "      <td>3.9</td>\n",
              "      <td>None</td>\n",
              "    </tr>\n",
              "    <tr>\n",
              "      <td>4</td>\n",
              "      <td>2</td>\n",
              "      <td>2</td>\n",
              "      <td>4.7</td>\n",
              "      <td>None</td>\n",
              "    </tr>\n",
              "    <tr>\n",
              "      <td>5</td>\n",
              "      <td>2</td>\n",
              "      <td>7</td>\n",
              "      <td>4.6</td>\n",
              "      <td>None</td>\n",
              "    </tr>\n",
              "    <tr>\n",
              "      <td>6</td>\n",
              "      <td>2</td>\n",
              "      <td>8</td>\n",
              "      <td>3.9</td>\n",
              "      <td>None</td>\n",
              "    </tr>\n",
              "    <tr>\n",
              "      <td>7</td>\n",
              "      <td>3</td>\n",
              "      <td>2</td>\n",
              "      <td>2.9</td>\n",
              "      <td>None</td>\n",
              "    </tr>\n",
              "    <tr>\n",
              "      <td>8</td>\n",
              "      <td>3</td>\n",
              "      <td>6</td>\n",
              "      <td>4.9</td>\n",
              "      <td>None</td>\n",
              "    </tr>\n",
              "  </tbody>\n",
              "</table>"
            ]
          },
          "metadata": {}
        }
      ]
    },
    {
      "cell_type": "code",
      "source": [
        "\"\"\"\n",
        "Find the titles and artists in the \"Classic\" genre\n",
        "\"\"\"\n",
        "\n",
        "qry_classic=\"\"\"\n",
        "SELECT Songs.title, Songs.artist\n",
        "FROM Songs\n",
        "WHERE Songs.genre='Classic'\n",
        "\"\"\"\n",
        "runSql('Classic Songs', qry_classic)"
      ],
      "metadata": {
        "colab": {
          "base_uri": "https://localhost:8080/",
          "height": 161
        },
        "id": "KTefI-WA9VL-",
        "outputId": "3b6f548c-ed12-44be-9ff1-13612d40e4af",
        "collapsed": true
      },
      "execution_count": null,
      "outputs": [
        {
          "output_type": "display_data",
          "data": {
            "text/plain": [
              "<IPython.core.display.HTML object>"
            ],
            "text/html": [
              "<b><font color=Green>Classic Songs</font></b><table border=\"1\" class=\"dataframe\">\n",
              "  <thead>\n",
              "    <tr style=\"text-align: right;\">\n",
              "      <th>title</th>\n",
              "      <th>artist</th>\n",
              "    </tr>\n",
              "  </thead>\n",
              "  <tbody>\n",
              "    <tr>\n",
              "      <td>Hey Jude</td>\n",
              "      <td>Beatles</td>\n",
              "    </tr>\n",
              "    <tr>\n",
              "      <td>Yellow Submarine</td>\n",
              "      <td>Beatles</td>\n",
              "    </tr>\n",
              "    <tr>\n",
              "      <td>Hey Jude</td>\n",
              "      <td>Beatles</td>\n",
              "    </tr>\n",
              "  </tbody>\n",
              "</table>"
            ]
          },
          "metadata": {}
        }
      ]
    },
    {
      "cell_type": "markdown",
      "source": [
        "Write query to do the following:\n",
        "1. List all genres\n",
        "2. List unique genres\n",
        "3. Songs of Taylor Swift in different genres\n",
        "4. Find count of songs in each genres\n",
        "5. Count of songs in each genre artists wise\n",
        "6. Popular songs by the number of listens\n",
        "7. Taylor Swift's songs listned to by Mickey\n",
        "8. Count ratings for Beatle's songs\n",
        "9. Titles and artists of songs that have been listed to by user_id=1\n",
        "10. Titles and artists of songs with >= 1 listen recorded in the Listens table.\n",
        "11.  Retrieve songs that have not been listened to by user with ID 1\n",
        "12. Titles and artists of songs from both Pop and Rock genres\n",
        "13. Artists of songs from both Pop and Rock genres\n",
        "14. Titles and artists of songs from both Pop and Rock genres, including duplicates\n",
        "15. Artists with songs that belong to both Pop and Rock genres\n",
        "16. Artists with songs in Rock genre, but none in the Pop genre"
      ],
      "metadata": {
        "id": "nQwBesg7ziN-"
      }
    },
    {
      "cell_type": "code",
      "source": [
        "## 1. List all genres\n",
        "\n",
        "query_1 = \"\"\"\n",
        "SELECT genre\n",
        "FROM Songs\n",
        "\"\"\"\n",
        "runSql('All genre', query_1)"
      ],
      "metadata": {
        "colab": {
          "base_uri": "https://localhost:8080/",
          "height": 380
        },
        "collapsed": true,
        "id": "twx4xMfiWldQ",
        "outputId": "7334033a-f5f8-452f-96b2-616458ee9585"
      },
      "execution_count": null,
      "outputs": [
        {
          "output_type": "display_data",
          "data": {
            "text/plain": [
              "<IPython.core.display.HTML object>"
            ],
            "text/html": [
              "<b><font color=Green>Classic Songs</font></b><table border=\"1\" class=\"dataframe\">\n",
              "  <thead>\n",
              "    <tr style=\"text-align: right;\">\n",
              "      <th>genre</th>\n",
              "    </tr>\n",
              "  </thead>\n",
              "  <tbody>\n",
              "    <tr>\n",
              "      <td>Pop</td>\n",
              "    </tr>\n",
              "    <tr>\n",
              "      <td>Rock</td>\n",
              "    </tr>\n",
              "    <tr>\n",
              "      <td>Pop</td>\n",
              "    </tr>\n",
              "    <tr>\n",
              "      <td>Rock</td>\n",
              "    </tr>\n",
              "    <tr>\n",
              "      <td>Rock</td>\n",
              "    </tr>\n",
              "    <tr>\n",
              "      <td>Pop</td>\n",
              "    </tr>\n",
              "    <tr>\n",
              "      <td>Classic</td>\n",
              "    </tr>\n",
              "    <tr>\n",
              "      <td>Classic</td>\n",
              "    </tr>\n",
              "    <tr>\n",
              "      <td>Classic</td>\n",
              "    </tr>\n",
              "    <tr>\n",
              "      <td>None</td>\n",
              "    </tr>\n",
              "  </tbody>\n",
              "</table>"
            ]
          },
          "metadata": {}
        }
      ]
    },
    {
      "cell_type": "code",
      "source": [
        "## 2. List all unique genres\n",
        "\n",
        "query_2 = \"\"\"\n",
        "SELECT distinct genre\n",
        "FROM Songs\n",
        "\"\"\"\n",
        "runSql('Unique genre', query_2)"
      ],
      "metadata": {
        "colab": {
          "base_uri": "https://localhost:8080/",
          "height": 192
        },
        "collapsed": true,
        "id": "HmsRBLBfaVFP",
        "outputId": "20ff254b-f2e7-4336-ccb7-9df6d0585a90"
      },
      "execution_count": null,
      "outputs": [
        {
          "output_type": "display_data",
          "data": {
            "text/plain": [
              "<IPython.core.display.HTML object>"
            ],
            "text/html": [
              "<b><font color=Green>Classic Songs</font></b><table border=\"1\" class=\"dataframe\">\n",
              "  <thead>\n",
              "    <tr style=\"text-align: right;\">\n",
              "      <th>genre</th>\n",
              "    </tr>\n",
              "  </thead>\n",
              "  <tbody>\n",
              "    <tr>\n",
              "      <td>Pop</td>\n",
              "    </tr>\n",
              "    <tr>\n",
              "      <td>Rock</td>\n",
              "    </tr>\n",
              "    <tr>\n",
              "      <td>Classic</td>\n",
              "    </tr>\n",
              "    <tr>\n",
              "      <td>None</td>\n",
              "    </tr>\n",
              "  </tbody>\n",
              "</table>"
            ]
          },
          "metadata": {}
        }
      ]
    },
    {
      "cell_type": "code",
      "source": [
        "## 3. Songs of Taylor Swift in different genres\n",
        "\n",
        "query_3 = \"\"\"\n",
        "SELECT title, genre\n",
        "FROM Songs\n",
        "where artist = 'Taylor Swift'\n",
        "\"\"\"\n",
        "runSql('Genres of taylor Swift', query_3)"
      ],
      "metadata": {
        "colab": {
          "base_uri": "https://localhost:8080/",
          "height": 161
        },
        "collapsed": true,
        "id": "9DmJMFmAahcv",
        "outputId": "9ae22d04-e770-46de-9504-2bf00de73026"
      },
      "execution_count": null,
      "outputs": [
        {
          "output_type": "display_data",
          "data": {
            "text/plain": [
              "<IPython.core.display.HTML object>"
            ],
            "text/html": [
              "<b><font color=Green>Classic Songs</font></b><table border=\"1\" class=\"dataframe\">\n",
              "  <thead>\n",
              "    <tr style=\"text-align: right;\">\n",
              "      <th>title</th>\n",
              "      <th>genre</th>\n",
              "    </tr>\n",
              "  </thead>\n",
              "  <tbody>\n",
              "    <tr>\n",
              "      <td>Evermore</td>\n",
              "      <td>Pop</td>\n",
              "    </tr>\n",
              "    <tr>\n",
              "      <td>Bad Blood</td>\n",
              "      <td>Rock</td>\n",
              "    </tr>\n",
              "    <tr>\n",
              "      <td>Willow</td>\n",
              "      <td>Pop</td>\n",
              "    </tr>\n",
              "  </tbody>\n",
              "</table>"
            ]
          },
          "metadata": {}
        }
      ]
    },
    {
      "cell_type": "code",
      "source": [
        "## 4. Find count of songs in each genres\n",
        "\n",
        "query_4 = \"\"\"\n",
        "SELECT genre, count(genre) as count_genre\n",
        "FROM Songs\n",
        "group by genre\n",
        "\"\"\"\n",
        "runSql('Songs per genre', query_4)"
      ],
      "metadata": {
        "colab": {
          "base_uri": "https://localhost:8080/",
          "height": 192
        },
        "collapsed": true,
        "id": "ExCXCLWIbhNt",
        "outputId": "7fbb25f6-75be-4a20-bd65-bbd4008c39ac"
      },
      "execution_count": null,
      "outputs": [
        {
          "output_type": "display_data",
          "data": {
            "text/plain": [
              "<IPython.core.display.HTML object>"
            ],
            "text/html": [
              "<b><font color=Green>Classic Songs</font></b><table border=\"1\" class=\"dataframe\">\n",
              "  <thead>\n",
              "    <tr style=\"text-align: right;\">\n",
              "      <th>genre</th>\n",
              "      <th>count_genre</th>\n",
              "    </tr>\n",
              "  </thead>\n",
              "  <tbody>\n",
              "    <tr>\n",
              "      <td>None</td>\n",
              "      <td>0</td>\n",
              "    </tr>\n",
              "    <tr>\n",
              "      <td>Classic</td>\n",
              "      <td>3</td>\n",
              "    </tr>\n",
              "    <tr>\n",
              "      <td>Pop</td>\n",
              "      <td>3</td>\n",
              "    </tr>\n",
              "    <tr>\n",
              "      <td>Rock</td>\n",
              "      <td>3</td>\n",
              "    </tr>\n",
              "  </tbody>\n",
              "</table>"
            ]
          },
          "metadata": {}
        }
      ]
    },
    {
      "cell_type": "code",
      "source": [
        "## 5. Count of songs in each genre artists wise\n",
        "\n",
        "query_5 = \"\"\"\n",
        "SELECT artist, genre, count(genre) as count_genre\n",
        "FROM Songs\n",
        "group by artist, genre\n",
        "\"\"\"\n",
        "runSql('Songs per artist per genre', query_5)"
      ],
      "metadata": {
        "colab": {
          "base_uri": "https://localhost:8080/",
          "height": 255
        },
        "collapsed": true,
        "id": "h7OVAdgZcdFV",
        "outputId": "e4d9ff8e-ccc3-4f90-c5d9-e779b1a6536c"
      },
      "execution_count": null,
      "outputs": [
        {
          "output_type": "display_data",
          "data": {
            "text/plain": [
              "<IPython.core.display.HTML object>"
            ],
            "text/html": [
              "<b><font color=Green>Classic Songs</font></b><table border=\"1\" class=\"dataframe\">\n",
              "  <thead>\n",
              "    <tr style=\"text-align: right;\">\n",
              "      <th>artist</th>\n",
              "      <th>genre</th>\n",
              "      <th>count_genre</th>\n",
              "    </tr>\n",
              "  </thead>\n",
              "  <tbody>\n",
              "    <tr>\n",
              "      <td>Beatles</td>\n",
              "      <td>Classic</td>\n",
              "      <td>3</td>\n",
              "    </tr>\n",
              "    <tr>\n",
              "      <td>DJ</td>\n",
              "      <td>None</td>\n",
              "      <td>0</td>\n",
              "    </tr>\n",
              "    <tr>\n",
              "      <td>Ed Sheeran</td>\n",
              "      <td>Pop</td>\n",
              "      <td>1</td>\n",
              "    </tr>\n",
              "    <tr>\n",
              "      <td>Ed Sheeran</td>\n",
              "      <td>Rock</td>\n",
              "      <td>2</td>\n",
              "    </tr>\n",
              "    <tr>\n",
              "      <td>Taylor Swift</td>\n",
              "      <td>Pop</td>\n",
              "      <td>2</td>\n",
              "    </tr>\n",
              "    <tr>\n",
              "      <td>Taylor Swift</td>\n",
              "      <td>Rock</td>\n",
              "      <td>1</td>\n",
              "    </tr>\n",
              "  </tbody>\n",
              "</table>"
            ]
          },
          "metadata": {}
        }
      ]
    },
    {
      "cell_type": "code",
      "source": [
        "## 6. Popular songs by the number of listens\n",
        "\n",
        "query_6 = \"\"\"\n",
        "SELECT title, count(listens.song_id) as count_song\n",
        "FROM listens\n",
        "join songs on songs.song_id = listens.song_id\n",
        "group by listens.song_id\n",
        "order by count(listens.song_id) desc\n",
        "\"\"\"\n",
        "runSql('Popular Songs', query_6)"
      ],
      "metadata": {
        "colab": {
          "base_uri": "https://localhost:8080/",
          "height": 223
        },
        "id": "SA3ACyK1dNE5",
        "outputId": "941dd8ae-d314-4163-fa75-be3efc99f521"
      },
      "execution_count": null,
      "outputs": [
        {
          "output_type": "display_data",
          "data": {
            "text/plain": [
              "<IPython.core.display.HTML object>"
            ],
            "text/html": [
              "<b><font color=Green>Popular Songs</font></b><table border=\"1\" class=\"dataframe\">\n",
              "  <thead>\n",
              "    <tr style=\"text-align: right;\">\n",
              "      <th>title</th>\n",
              "      <th>count_song</th>\n",
              "    </tr>\n",
              "  </thead>\n",
              "  <tbody>\n",
              "    <tr>\n",
              "      <td>Bad Blood</td>\n",
              "      <td>3</td>\n",
              "    </tr>\n",
              "    <tr>\n",
              "      <td>Shivers</td>\n",
              "      <td>2</td>\n",
              "    </tr>\n",
              "    <tr>\n",
              "      <td>Yellow Submarine</td>\n",
              "      <td>1</td>\n",
              "    </tr>\n",
              "    <tr>\n",
              "      <td>Hey Jude</td>\n",
              "      <td>1</td>\n",
              "    </tr>\n",
              "    <tr>\n",
              "      <td>Evermore</td>\n",
              "      <td>1</td>\n",
              "    </tr>\n",
              "  </tbody>\n",
              "</table>"
            ]
          },
          "metadata": {}
        }
      ]
    },
    {
      "cell_type": "code",
      "source": [
        "## 7. Taylor Swift's songs listned to by Mickey\n",
        "\n",
        "query_7 = \"\"\"\n",
        "SELECT title\n",
        "from songs\n",
        "join listens on songs.song_id = listens.song_id\n",
        "join users on users.user_id = listens.user_id\n",
        "where name = 'Mickey' and artist = 'Taylor Swift'\n",
        "\"\"\"\n",
        "runSql('Mickey Taylor Songs', query_7)"
      ],
      "metadata": {
        "colab": {
          "base_uri": "https://localhost:8080/",
          "height": 129
        },
        "id": "hYJ4wGd1kgWj",
        "outputId": "e311ef97-d7be-4818-ff08-57cf60404bce"
      },
      "execution_count": null,
      "outputs": [
        {
          "output_type": "display_data",
          "data": {
            "text/plain": [
              "<IPython.core.display.HTML object>"
            ],
            "text/html": [
              "<b><font color=Green>Mickey Taylor Songs</font></b><table border=\"1\" class=\"dataframe\">\n",
              "  <thead>\n",
              "    <tr style=\"text-align: right;\">\n",
              "      <th>title</th>\n",
              "    </tr>\n",
              "  </thead>\n",
              "  <tbody>\n",
              "    <tr>\n",
              "      <td>Evermore</td>\n",
              "    </tr>\n",
              "    <tr>\n",
              "      <td>Bad Blood</td>\n",
              "    </tr>\n",
              "  </tbody>\n",
              "</table>"
            ]
          },
          "metadata": {}
        }
      ]
    },
    {
      "cell_type": "code",
      "source": [
        "## 8. Count ratings for Beatle's songs\n",
        "\n",
        "query_8 = \"\"\"\n",
        "SELECT title, count(rating) as count_rating\n",
        "from listens\n",
        "join songs on songs.song_id = listens.song_id\n",
        "where artist = 'Beatles'\n",
        "group by rating\n",
        "\"\"\"\n",
        "runSql('Count Rating Beatles', query_8)"
      ],
      "metadata": {
        "colab": {
          "base_uri": "https://localhost:8080/",
          "height": 129
        },
        "id": "faYFUuqFmBh2",
        "outputId": "604b544b-180b-4521-e489-fa0a6ac0a8c5"
      },
      "execution_count": null,
      "outputs": [
        {
          "output_type": "display_data",
          "data": {
            "text/plain": [
              "<IPython.core.display.HTML object>"
            ],
            "text/html": [
              "<b><font color=Green>Count Rating Beatles</font></b><table border=\"1\" class=\"dataframe\">\n",
              "  <thead>\n",
              "    <tr style=\"text-align: right;\">\n",
              "      <th>title</th>\n",
              "      <th>count_rating</th>\n",
              "    </tr>\n",
              "  </thead>\n",
              "  <tbody>\n",
              "    <tr>\n",
              "      <td>Yellow Submarine</td>\n",
              "      <td>1</td>\n",
              "    </tr>\n",
              "    <tr>\n",
              "      <td>Hey Jude</td>\n",
              "      <td>1</td>\n",
              "    </tr>\n",
              "  </tbody>\n",
              "</table>"
            ]
          },
          "metadata": {}
        }
      ]
    },
    {
      "cell_type": "code",
      "source": [
        "## 9. Titles and artists of songs that have been listened to by user_id = 1\n",
        "\n",
        "query_9 = \"\"\"\n",
        "SELECT title, artist\n",
        "from songs\n",
        "where song_id in (select song_id from listens where user_id = 1)\"\"\"\n",
        "\n",
        "runSql('Songs listened by user 1', query_9)"
      ],
      "metadata": {
        "colab": {
          "base_uri": "https://localhost:8080/",
          "height": 161
        },
        "id": "2uhz7psZqKqu",
        "outputId": "c4058d2e-0402-466c-dfb1-3a1ce3e9a3c8"
      },
      "execution_count": null,
      "outputs": [
        {
          "output_type": "display_data",
          "data": {
            "text/plain": [
              "<IPython.core.display.HTML object>"
            ],
            "text/html": [
              "<b><font color=Green>Count Rating Beatles</font></b><table border=\"1\" class=\"dataframe\">\n",
              "  <thead>\n",
              "    <tr style=\"text-align: right;\">\n",
              "      <th>title</th>\n",
              "      <th>artist</th>\n",
              "    </tr>\n",
              "  </thead>\n",
              "  <tbody>\n",
              "    <tr>\n",
              "      <td>Evermore</td>\n",
              "      <td>Taylor Swift</td>\n",
              "    </tr>\n",
              "    <tr>\n",
              "      <td>Bad Blood</td>\n",
              "      <td>Taylor Swift</td>\n",
              "    </tr>\n",
              "    <tr>\n",
              "      <td>Shivers</td>\n",
              "      <td>Ed Sheeran</td>\n",
              "    </tr>\n",
              "  </tbody>\n",
              "</table>"
            ]
          },
          "metadata": {}
        }
      ]
    },
    {
      "cell_type": "code",
      "source": [
        "## 10. Titles and artists of songs with >= 1 listen recorded in the Listens table.\n",
        "\n",
        "query_10 = \"\"\"\n",
        "SELECT title, artist\n",
        "from songs\n",
        "where song_id in (select song_id from listens)\n",
        "\"\"\"\n",
        "\n",
        "runSql('Titles & Artist for listened songs', query_10)"
      ],
      "metadata": {
        "colab": {
          "base_uri": "https://localhost:8080/",
          "height": 223
        },
        "id": "C_mN2FLMrTd7",
        "outputId": "f8bc4a91-417a-4fda-adb2-59b8b73c49fb"
      },
      "execution_count": null,
      "outputs": [
        {
          "output_type": "display_data",
          "data": {
            "text/plain": [
              "<IPython.core.display.HTML object>"
            ],
            "text/html": [
              "<b><font color=Green>Titles & Artist for listened songs</font></b><table border=\"1\" class=\"dataframe\">\n",
              "  <thead>\n",
              "    <tr style=\"text-align: right;\">\n",
              "      <th>title</th>\n",
              "      <th>artist</th>\n",
              "    </tr>\n",
              "  </thead>\n",
              "  <tbody>\n",
              "    <tr>\n",
              "      <td>Evermore</td>\n",
              "      <td>Taylor Swift</td>\n",
              "    </tr>\n",
              "    <tr>\n",
              "      <td>Bad Blood</td>\n",
              "      <td>Taylor Swift</td>\n",
              "    </tr>\n",
              "    <tr>\n",
              "      <td>Shivers</td>\n",
              "      <td>Ed Sheeran</td>\n",
              "    </tr>\n",
              "    <tr>\n",
              "      <td>Hey Jude</td>\n",
              "      <td>Beatles</td>\n",
              "    </tr>\n",
              "    <tr>\n",
              "      <td>Yellow Submarine</td>\n",
              "      <td>Beatles</td>\n",
              "    </tr>\n",
              "  </tbody>\n",
              "</table>"
            ]
          },
          "metadata": {}
        }
      ]
    },
    {
      "cell_type": "code",
      "source": [
        "## 11. Retrieve songs that have not been listened to by user with ID 1\n",
        "\n",
        "query_11 = \"\"\"\n",
        "SELECT title, artist\n",
        "from songs\n",
        "where song_id not in (select song_id from listens where user_id = 1)\n",
        "\"\"\"\n",
        "\n",
        "runSql('Songs not listened by user 1', query_11)"
      ],
      "metadata": {
        "colab": {
          "base_uri": "https://localhost:8080/",
          "height": 286
        },
        "id": "xq0dS-bAr7Gu",
        "outputId": "fa38648c-8913-40eb-9ec5-920da0cdae16"
      },
      "execution_count": null,
      "outputs": [
        {
          "output_type": "display_data",
          "data": {
            "text/plain": [
              "<IPython.core.display.HTML object>"
            ],
            "text/html": [
              "<b><font color=Green>Songs not listened by user 1</font></b><table border=\"1\" class=\"dataframe\">\n",
              "  <thead>\n",
              "    <tr style=\"text-align: right;\">\n",
              "      <th>title</th>\n",
              "      <th>artist</th>\n",
              "    </tr>\n",
              "  </thead>\n",
              "  <tbody>\n",
              "    <tr>\n",
              "      <td>Willow</td>\n",
              "      <td>Taylor Swift</td>\n",
              "    </tr>\n",
              "    <tr>\n",
              "      <td>Shape of you</td>\n",
              "      <td>Ed Sheeran</td>\n",
              "    </tr>\n",
              "    <tr>\n",
              "      <td>Photograph</td>\n",
              "      <td>Ed Sheeran</td>\n",
              "    </tr>\n",
              "    <tr>\n",
              "      <td>Hey Jude</td>\n",
              "      <td>Beatles</td>\n",
              "    </tr>\n",
              "    <tr>\n",
              "      <td>Yellow Submarine</td>\n",
              "      <td>Beatles</td>\n",
              "    </tr>\n",
              "    <tr>\n",
              "      <td>Hey Jude</td>\n",
              "      <td>Beatles</td>\n",
              "    </tr>\n",
              "    <tr>\n",
              "      <td>DJ Mix</td>\n",
              "      <td>DJ</td>\n",
              "    </tr>\n",
              "  </tbody>\n",
              "</table>"
            ]
          },
          "metadata": {}
        }
      ]
    },
    {
      "cell_type": "code",
      "source": [
        "## 12. Titles and artists of songs from both Pop and Rock genres\n",
        "\n",
        "query_12 = \"\"\"\n",
        "SELECT title, artist\n",
        "from songs\n",
        "where genre = 'Pop' or genre = 'Rock'\n",
        "\"\"\"\n",
        "\n",
        "runSql('Pop & Rock <> Titles Artists-v1', query_12)"
      ],
      "metadata": {
        "colab": {
          "base_uri": "https://localhost:8080/",
          "height": 255
        },
        "id": "VpOWlEW5tKjq",
        "outputId": "ae9a3fda-fd9e-41f7-9757-ada8c4b853ba"
      },
      "execution_count": null,
      "outputs": [
        {
          "output_type": "display_data",
          "data": {
            "text/plain": [
              "<IPython.core.display.HTML object>"
            ],
            "text/html": [
              "<b><font color=Green>Pop & Rock <> Titles Artists-v1</font></b><table border=\"1\" class=\"dataframe\">\n",
              "  <thead>\n",
              "    <tr style=\"text-align: right;\">\n",
              "      <th>title</th>\n",
              "      <th>artist</th>\n",
              "    </tr>\n",
              "  </thead>\n",
              "  <tbody>\n",
              "    <tr>\n",
              "      <td>Evermore</td>\n",
              "      <td>Taylor Swift</td>\n",
              "    </tr>\n",
              "    <tr>\n",
              "      <td>Bad Blood</td>\n",
              "      <td>Taylor Swift</td>\n",
              "    </tr>\n",
              "    <tr>\n",
              "      <td>Willow</td>\n",
              "      <td>Taylor Swift</td>\n",
              "    </tr>\n",
              "    <tr>\n",
              "      <td>Shape of you</td>\n",
              "      <td>Ed Sheeran</td>\n",
              "    </tr>\n",
              "    <tr>\n",
              "      <td>Photograph</td>\n",
              "      <td>Ed Sheeran</td>\n",
              "    </tr>\n",
              "    <tr>\n",
              "      <td>Shivers</td>\n",
              "      <td>Ed Sheeran</td>\n",
              "    </tr>\n",
              "  </tbody>\n",
              "</table>"
            ]
          },
          "metadata": {}
        }
      ]
    },
    {
      "cell_type": "code",
      "source": [
        "## 13. Artists of songs from both Pop and Rock genres\n",
        "\n",
        "query_13 = \"\"\"\n",
        "SELECT distinct artist\n",
        "from songs\n",
        "where genre = 'Pop' or genre = 'Rock'\n",
        "\"\"\"\n",
        "\n",
        "runSql('Pop & Rock Artists', query_13)"
      ],
      "metadata": {
        "colab": {
          "base_uri": "https://localhost:8080/",
          "height": 129
        },
        "id": "RHFPsjUdtdvZ",
        "outputId": "c7e0736e-11a2-48a4-ea87-7b144987b572"
      },
      "execution_count": null,
      "outputs": [
        {
          "output_type": "display_data",
          "data": {
            "text/plain": [
              "<IPython.core.display.HTML object>"
            ],
            "text/html": [
              "<b><font color=Green>Pop & Rock Artists</font></b><table border=\"1\" class=\"dataframe\">\n",
              "  <thead>\n",
              "    <tr style=\"text-align: right;\">\n",
              "      <th>artist</th>\n",
              "    </tr>\n",
              "  </thead>\n",
              "  <tbody>\n",
              "    <tr>\n",
              "      <td>Taylor Swift</td>\n",
              "    </tr>\n",
              "    <tr>\n",
              "      <td>Ed Sheeran</td>\n",
              "    </tr>\n",
              "  </tbody>\n",
              "</table>"
            ]
          },
          "metadata": {}
        }
      ]
    },
    {
      "cell_type": "code",
      "source": [
        "## 14. Titles and artists of songs from both Pop and Rock genres, including duplicates\n",
        "\n",
        "query_14 = \"\"\"\n",
        "SELECT title, artist\n",
        "from songs\n",
        "where genre = 'Pop' or genre = 'Rock'\n",
        "\"\"\"\n",
        "\n",
        "runSql('Pop & Rock <> Titles Artists-v2', query_14)"
      ],
      "metadata": {
        "colab": {
          "base_uri": "https://localhost:8080/",
          "height": 255
        },
        "id": "ZwDWu6C5tn-e",
        "outputId": "aca3ac3b-ab43-4419-e769-b025097801d9"
      },
      "execution_count": null,
      "outputs": [
        {
          "output_type": "display_data",
          "data": {
            "text/plain": [
              "<IPython.core.display.HTML object>"
            ],
            "text/html": [
              "<b><font color=Green>Pop & Rock <> Titles, Artists</font></b><table border=\"1\" class=\"dataframe\">\n",
              "  <thead>\n",
              "    <tr style=\"text-align: right;\">\n",
              "      <th>title</th>\n",
              "      <th>artist</th>\n",
              "    </tr>\n",
              "  </thead>\n",
              "  <tbody>\n",
              "    <tr>\n",
              "      <td>Evermore</td>\n",
              "      <td>Taylor Swift</td>\n",
              "    </tr>\n",
              "    <tr>\n",
              "      <td>Bad Blood</td>\n",
              "      <td>Taylor Swift</td>\n",
              "    </tr>\n",
              "    <tr>\n",
              "      <td>Willow</td>\n",
              "      <td>Taylor Swift</td>\n",
              "    </tr>\n",
              "    <tr>\n",
              "      <td>Shape of you</td>\n",
              "      <td>Ed Sheeran</td>\n",
              "    </tr>\n",
              "    <tr>\n",
              "      <td>Photograph</td>\n",
              "      <td>Ed Sheeran</td>\n",
              "    </tr>\n",
              "    <tr>\n",
              "      <td>Shivers</td>\n",
              "      <td>Ed Sheeran</td>\n",
              "    </tr>\n",
              "  </tbody>\n",
              "</table>"
            ]
          },
          "metadata": {}
        }
      ]
    },
    {
      "cell_type": "code",
      "source": [
        "## 15. Artists with songs that belong to both Pop and Rock genres\n",
        "\n",
        "query_15 = \"\"\"\n",
        "SELECT artist\n",
        "FROM songs\n",
        "WHERE genre = 'Pop' OR genre = 'Rock'\n",
        "GROUP BY artist\n",
        "HAVING COUNT(DISTINCT genre) = 2;\n",
        "\"\"\"\n",
        "\n",
        "runSql('Artists with Pop & Rock genres', query_15)"
      ],
      "metadata": {
        "colab": {
          "base_uri": "https://localhost:8080/",
          "height": 129
        },
        "id": "JNEg58IXu3Hc",
        "outputId": "bfaa539a-386f-49be-e81d-f1f359cfef83"
      },
      "execution_count": 62,
      "outputs": [
        {
          "output_type": "display_data",
          "data": {
            "text/plain": [
              "<IPython.core.display.HTML object>"
            ],
            "text/html": [
              "<b><font color=Green>Pop & Rock <> Titles Artists-v2</font></b><table border=\"1\" class=\"dataframe\">\n",
              "  <thead>\n",
              "    <tr style=\"text-align: right;\">\n",
              "      <th>artist</th>\n",
              "    </tr>\n",
              "  </thead>\n",
              "  <tbody>\n",
              "    <tr>\n",
              "      <td>Ed Sheeran</td>\n",
              "    </tr>\n",
              "    <tr>\n",
              "      <td>Taylor Swift</td>\n",
              "    </tr>\n",
              "  </tbody>\n",
              "</table>"
            ]
          },
          "metadata": {}
        }
      ]
    },
    {
      "cell_type": "code",
      "source": [
        "## 16. Artists with songs in Rock genre, but none in the Pop genre\n",
        "\n",
        "query_16 = \"\"\"\n",
        "SELECT artist\n",
        "FROM songs\n",
        "WHERE genre = 'Rock'\n",
        "and artist not in (Select artist from songs where genre = 'Pop');\n",
        "\"\"\"\n",
        "\n",
        "runSql('Artists with only Rock genre', query_16)"
      ],
      "metadata": {
        "colab": {
          "base_uri": "https://localhost:8080/",
          "height": 67
        },
        "id": "_-Su61xs1Cca",
        "outputId": "10cf2c70-16d4-4cf6-8cba-5367e4e81fae"
      },
      "execution_count": 63,
      "outputs": [
        {
          "output_type": "display_data",
          "data": {
            "text/plain": [
              "<IPython.core.display.HTML object>"
            ],
            "text/html": [
              "<b><font color=Green>Artists with only Rock genres</font></b><table border=\"1\" class=\"dataframe\">\n",
              "  <thead>\n",
              "    <tr style=\"text-align: right;\">\n",
              "      <th>artist</th>\n",
              "    </tr>\n",
              "  </thead>\n",
              "  <tbody>\n",
              "  </tbody>\n",
              "</table>"
            ]
          },
          "metadata": {}
        }
      ]
    }
  ]
}